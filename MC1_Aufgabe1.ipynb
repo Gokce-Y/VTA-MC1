{
 "cells": [
  {
   "cell_type": "markdown",
   "id": "a8258701",
   "metadata": {},
   "source": [
    "# VTA Mini-Challenge 1 - Aufgabe 1\n",
    "\n",
    "**Authors:** Ivan Halka, Gökçe Yaren Demir\n",
    "\n"
   ]
  },
  {
   "cell_type": "markdown",
   "id": "32cefc2e",
   "metadata": {},
   "source": [
    "## Step 1 \n",
    "### Download Libraries"
   ]
  },
  {
   "cell_type": "code",
   "execution_count": 25,
   "id": "fe4a683a",
   "metadata": {},
   "outputs": [],
   "source": [
    "import numpy as np\n",
    "import pandas as pd\n",
    "import matplotlib.pyplot as plt"
   ]
  },
  {
   "cell_type": "markdown",
   "id": "bba97255",
   "metadata": {},
   "source": [
    "## Step 2\n",
    "### Load Dataset and Check Suitability for Linear Regression"
   ]
  },
  {
   "cell_type": "code",
   "execution_count": 15,
   "id": "07a9af35",
   "metadata": {},
   "outputs": [
    {
     "name": "stdout",
     "output_type": "stream",
     "text": [
      "Number of observations: 101\n"
     ]
    },
    {
     "data": {
      "text/html": [
       "<div>\n",
       "<style scoped>\n",
       "    .dataframe tbody tr th:only-of-type {\n",
       "        vertical-align: middle;\n",
       "    }\n",
       "\n",
       "    .dataframe tbody tr th {\n",
       "        vertical-align: top;\n",
       "    }\n",
       "\n",
       "    .dataframe thead th {\n",
       "        text-align: right;\n",
       "    }\n",
       "</style>\n",
       "<table border=\"1\" class=\"dataframe\">\n",
       "  <thead>\n",
       "    <tr style=\"text-align: right;\">\n",
       "      <th></th>\n",
       "      <th>x</th>\n",
       "      <th>y</th>\n",
       "    </tr>\n",
       "  </thead>\n",
       "  <tbody>\n",
       "    <tr>\n",
       "      <th>0</th>\n",
       "      <td>0</td>\n",
       "      <td>-2.000</td>\n",
       "    </tr>\n",
       "    <tr>\n",
       "      <th>1</th>\n",
       "      <td>1</td>\n",
       "      <td>-1.595</td>\n",
       "    </tr>\n",
       "    <tr>\n",
       "      <th>2</th>\n",
       "      <td>2</td>\n",
       "      <td>-1.302</td>\n",
       "    </tr>\n",
       "    <tr>\n",
       "      <th>3</th>\n",
       "      <td>3</td>\n",
       "      <td>-1.103</td>\n",
       "    </tr>\n",
       "    <tr>\n",
       "      <th>4</th>\n",
       "      <td>4</td>\n",
       "      <td>-1.520</td>\n",
       "    </tr>\n",
       "  </tbody>\n",
       "</table>\n",
       "</div>"
      ],
      "text/plain": [
       "   x      y\n",
       "0  0 -2.000\n",
       "1  1 -1.595\n",
       "2  2 -1.302\n",
       "3  3 -1.103\n",
       "4  4 -1.520"
      ]
     },
     "execution_count": 15,
     "metadata": {},
     "output_type": "execute_result"
    }
   ],
   "source": [
    "# Load dataset\n",
    "df = pd.read_csv(\"data/data_a1_mc1_vta_hs25.csv\", sep=\";\")\n",
    "\n",
    "# Extract x and y values\n",
    "x = df.iloc[:, 0].to_numpy(dtype=float)\n",
    "y = df.iloc[:, 1].to_numpy(dtype=float)\n",
    "N = len(x)\n",
    "\n",
    "print(f\"Number of observations: {N}\")\n",
    "df.head()\n"
   ]
  },
  {
   "cell_type": "markdown",
   "id": "b42433a6",
   "metadata": {},
   "source": [
    "We used a **scatter plot** to visualize the relationship between \\( x \\) and \\( y \\).  \n",
    "By looking at the plot, we can see that the points form a clear **straight-line pattern**.  \n",
    "This indicates a **strong linear relationship** between the variables, showing that the dataset is **suitable for linear regression**.\n"
   ]
  },
  {
   "cell_type": "code",
   "execution_count": 26,
   "id": "f5a9e21d",
   "metadata": {},
   "outputs": [
    {
     "data": {
      "image/png": "[encoded data removed]",
      "text/plain": [
       "<Figure size 640x480 with 1 Axes>"
      ]
     },
     "metadata": {},
     "output_type": "display_data"
    }
   ],
   "source": [
    "plt.scatter(x, y)\n",
    "plt.xlabel(\"x values\")\n",
    "plt.ylabel(\"y values\")\n",
    "plt.title(\"Scatter plot of x vs y\")\n",
    "plt.show()"
   ]
  },
  {
   "cell_type": "markdown",
   "id": "c349e6ef",
   "metadata": {},
   "source": [
    "## Step 3\n",
    "### Check if Standardization is Needed\n",
    "Before starting the **Gradient Descent (GD)** optimization, we first examined the scale of the input variable \\( x \\).  \n",
    "To decide whether **standardization** is necessary, we computed the **mean** and **standard deviation** of \\( x \\):\n"
   ]
  },
  {
   "cell_type": "code",
   "execution_count": null,
   "id": "32ba7f31",
   "metadata": {},
   "outputs": [
    {
     "name": "stdout",
     "output_type": "stream",
     "text": [
      "x mean: 50.0\n",
      "x std deviation: 29.154759474226502\n"
     ]
    }
   ],
   "source": [
    "xm, xs = x.mean(), x.std()\n",
    "xs = xs if xs != 0 else 1.0  # prevent division by zero\n",
    "\n",
    "print(\"x mean:\", xm)\n",
    "print(\"x std deviation:\", xs)"
   ]
  },
  {
   "cell_type": "markdown",
   "id": "c66be171",
   "metadata": {},
   "source": [
    "**Gradient Descent (GD)** works better when the data isn’t too big or too small.  \n",
    "So, we **standardized** \\( x \\) — basically, we **centered** it and **scaled** it — to make the updates stable and avoid wild oscillations.\n"
   ]
  },
  {
   "cell_type": "code",
   "execution_count": 24,
   "id": "d2400b37",
   "metadata": {},
   "outputs": [],
   "source": [
    "x_s = (x - xm) / xs"
   ]
  },
  {
   "cell_type": "markdown",
   "id": "1c29b476",
   "metadata": {},
   "source": [
    "## Step 4\n",
    "### Gradient Descent Optimization Loop\n",
    "\n",
    "\n",
    "In this step, the **learning process** of the model begins.  \n",
    "\n",
    "First, the parameters \\( w_0 \\), \\( w_1 \\), and the **learning rate** \\( \\mu \\) are initialized.  \n",
    "The number of **epochs** is set to 50, meaning that the algorithm will pass through the dataset 50 times.  \n",
    "Starting the model from zero (i.e., \\( w_0 = 0 \\), \\( w_1 = 0 \\)) is sufficient for a simple dataset.  \n",
    "\n",
    "For each data point, the model computes its **current prediction** \\( \\hat{y} \\).  \n",
    "The difference between the true value \\( y \\) and the predicted value \\( \\hat{y} \\) is then used to calculate the **Mean Squared Error (MSE)**, which indicates how well or poorly the model performs at that point.  \n",
    "\n",
    "Next, the **gradients** (partial derivatives of the loss function) are computed based on these errors.  \n",
    "The gradients show the direction in which the error decreases most rapidly.  \n",
    "Using this information, the parameters \\( w_0 \\) and \\( w_1 \\) are updated — allowing the model to iteratively move toward **minimizing the overall error**.  \n",
    "\n",
    "Additionally, every 10 epochs, the current **MSE**, as well as the updated values of \\( w_0 \\) and \\( w_1 \\), are printed on the screen.  \n",
    "This makes it possible to **monitor the learning progress** and see whether the predictions are improving over time.\n"
   ]
  },
  {
   "cell_type": "code",
   "execution_count": 18,
   "id": "27718847",
   "metadata": {},
   "outputs": [
    {
     "name": "stdout",
     "output_type": "stream",
     "text": [
      "Epoch  1 | MSE=97.823957 | w0=1.600945 | w1=1.160377\n",
      "Epoch 10 | MSE=1.847181 | w0=7.145222 | w1=5.178912\n",
      "Epoch 20 | MSE=0.106799 | w0=7.912435 | w1=5.734994\n",
      "Epoch 30 | MSE=0.086734 | w0=7.994813 | w1=5.794703\n",
      "Epoch 40 | MSE=0.086502 | w0=8.003659 | w1=5.801114\n",
      "Epoch 50 | MSE=0.086500 | w0=8.004609 | w1=5.801802\n"
     ]
    }
   ],
   "source": [
    "# Initialize parameters\n",
    "w0, w1 = 0.0, 0.0           # intercept (b) and slope (m) for standardized x\n",
    "mu = 0.1                     # learning rate\n",
    "epochs = 50\n",
    "\n",
    "for ep in range(1, epochs + 1):\n",
    "    y_hat = w1 * x_s + w0\n",
    "    err = y - y_hat\n",
    "    mse = np.mean(err**2)\n",
    "\n",
    "    # Gradients (with respect to MSE)\n",
    "    dw0 = -(2.0 / N) * np.sum(err)\n",
    "    dw1 = -(2.0 / N) * np.sum(x_s * err)\n",
    "\n",
    "    # Update weights\n",
    "    w0 -= mu * dw0\n",
    "    w1 -= mu * dw1\n",
    "\n",
    "    # Print progress for selected epochs\n",
    "    if ep in (1, 10, 20, 30, 40, 50):\n",
    "        print(f\"Epoch {ep:>2d} | MSE={mse:.6f} | w0={w0:.6f} | w1={w1:.6f}\")\n"
   ]
  },
  {
   "cell_type": "markdown",
   "id": "91f182e5",
   "metadata": {},
   "source": [
    "Each epoch represents one full learning cycle over the dataset.\n",
    "As the epochs increase, the model’s error (MSE) decreases.\n",
    "Once the MSE and parameter values (w₀, w₁) stop changing, it means the model has converged — it found the best-fitting line."
   ]
  },
  {
   "cell_type": "markdown",
   "id": "dc133b63",
   "metadata": {},
   "source": [
    "## Step 5\n",
    "### Convert Results Back to the Original Scale\n",
    "After training the model with **standardized data**, we converted the parameters back to the **original scale**.  \n",
    "This step ensures that the **slope** and **intercept** can be interpreted using the real \\( x \\) values (not the standardized ones).\n"
   ]
  },
  {
   "cell_type": "code",
   "execution_count": 19,
   "id": "63836e6d",
   "metadata": {},
   "outputs": [
    {
     "name": "stdout",
     "output_type": "stream",
     "text": [
      "\n",
      "Gradient Descent (original scale):\n",
      "Slope (m) = 0.1990001766239573\n",
      "Intercept (b) = -1.9454003061417104\n"
     ]
    }
   ],
   "source": [
    "# Convert from standardized scale back to original scale\n",
    "m_gd = w1 / xs\n",
    "b_gd = w0 - m_gd * xm\n",
    "\n",
    "print(\"\\nGradient Descent (original scale):\")\n",
    "print(\"Slope (m) =\", m_gd)\n",
    "print(\"Intercept (b) =\", b_gd)"
   ]
  },
  {
   "cell_type": "markdown",
   "id": "5cc93baa",
   "metadata": {},
   "source": [
    "## Step 6 \n",
    "### Analytical (Closed-form) Solution\n",
    "\n",
    "In this step, the **linear regression parameters** were calculated directly using **NumPy**, based on the **Ordinary Least Squares (OLS)** formula.  \n",
    "Unlike **Gradient Descent**, which finds the minimum iteratively, this analytical approach computes the optimal **slope** and **intercept** in a single step using:\n",
    "\n",
    "\\[\n",
    "m^* = \\frac{\\sum (x - \\bar{x})(y - \\bar{y})}{\\sum (x - \\bar{x})^2}, \\quad\n",
    "b^* = \\bar{y} - m^* \\bar{x}\n",
    "\\]\n"
   ]
  },
  {
   "cell_type": "code",
   "execution_count": 20,
   "id": "d9816666",
   "metadata": {},
   "outputs": [
    {
     "name": "stdout",
     "output_type": "stream",
     "text": [
      "Analytical solution:\n",
      "Slope (m*) = 0.19900301688992428\n",
      "Intercept (b*) = -1.945428072218986\n"
     ]
    }
   ],
   "source": [
    "# Closed-form (Ordinary Least Squares) solution\n",
    "x_mean, y_mean = x.mean(), y.mean()\n",
    "\n",
    "m_star = np.sum((x - x_mean) * (y - y_mean)) / np.sum((x - x_mean)**2)\n",
    "b_star = y_mean - m_star * x_mean\n",
    "\n",
    "print(\"Analytical solution:\")\n",
    "print(\"Slope (m*) =\", m_star)\n",
    "print(\"Intercept (b*) =\", b_star)"
   ]
  },
  {
   "cell_type": "code",
   "execution_count": 21,
   "id": "635e4a57",
   "metadata": {},
   "outputs": [
    {
     "name": "stdout",
     "output_type": "stream",
     "text": [
      "\n",
      "MSE (Gradient Descent): 0.086500\n",
      "MSE (Analytical)     : 0.086500\n"
     ]
    }
   ],
   "source": [
    "# Compare Mean Squared Errors (MSE)\n",
    "mse_gd = np.mean((y - (m_gd * x + b_gd))**2)\n",
    "mse_star = np.mean((y - (m_star * x + b_star))**2)\n",
    "\n",
    "print(f\"\\nMSE (Gradient Descent): {mse_gd:.6f}\")\n",
    "print(f\"MSE (Analytical)     : {mse_star:.6f}\")\n"
   ]
  },
  {
   "cell_type": "markdown",
   "id": "695c37da",
   "metadata": {},
   "source": [
    "Both methods — **Gradient Descent** and the **Analytical (OLS) solution** — led to the same **regression parameters** and identical **MSE**.  \n",
    "This confirms that the Gradient Descent algorithm was **correctly implemented** and **converged to the global minimum**.  \n",
    "The experiment demonstrates how **iterative optimization** and **analytical computation** reach the same result when applied to a **simple linear regression** problem.\n"
   ]
  }
 ],
 "metadata": {
  "kernelspec": {
   "display_name": ".venv",
   "language": "python",
   "name": "python3"
  },
  "language_info": {
   "codemirror_mode": {
    "name": "ipython",
    "version": 3
   },
   "file_extension": ".py",
   "mimetype": "text/x-python",
   "name": "python",
   "nbconvert_exporter": "python",
   "pygments_lexer": "ipython3",
   "version": "3.12.6"
  }
 },
 "nbformat": 4,
 "nbformat_minor": 5
}
