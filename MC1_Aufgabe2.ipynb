{
 "cells": [
  {
   "cell_type": "code",
   "execution_count": 2,
   "id": "30e49944",
   "metadata": {},
   "outputs": [],
   "source": [
    "import numpy as np\n",
    "import pandas as pd\n",
    "import matplotlib.pyplot as plt"
   ]
  },
  {
   "cell_type": "markdown",
   "id": "fb0d4db7",
   "metadata": {},
   "source": [
    "# RGB → Font Color Classifier (NN) — Plan\n",
    "\n",
    "## 1. Data Preparation\n",
    "- [ ] Load `data_a2_mc1_vta_hs25.csv` with `sep=\";\"`.\n",
    "- [ ] Inspect columns: `RED`, `GREEN`, `BLUE`, `LIGHT_OR_DARK_FONT_IND`.\n",
    "- [ ] Normalize RGB to \\([0,1]\\): `R/255`, `G/255`, `B/255`.\n",
    "- [ ] Shuffle rows to remove ordering bias.\n",
    "- [ ] Split: **80% train**, **20% test** (stratify by label if possible).\n",
    "- [ ] Verify label semantics (0 ↔ light? 1 ↔ dark?) by quick EDA (class means or a few samples).\n",
    "\n",
    "## 2. Neural Network Architecture\n",
    "- Parameters:\n",
    "  - Input size \\(n_{\\text{in}}=3\\) (R,G,B)\n",
    "  - Hidden size \\(n_h=8\\) (tunable)\n",
    "  - Output size \\(n_{\\text{out}}=1\\)\n",
    "- Init:\n",
    "  - **He** for ReLU: \\(W_1 \\sim \\mathcal{N}(0,\\sqrt{2/n_{\\text{in}}})\\), \\(W_2 \\sim \\mathcal{N}(0,\\sqrt{2/n_h})\\)\n",
    "  - Biases: \\(b_1=\\mathbf{0}\\), \\(b_2=\\mathbf{0}\\)\n",
    "- Activations:\n",
    "  - \\(\\mathrm{ReLU}(z)=\\max(0,z)\\), \\(\\mathrm{ReLU}'(z)=\\mathbf{1}_{z>0}\\)\n",
    "  - \\(\\sigma(z)=\\frac{1}{1+e^{-z}}\\)\n",
    "- Forward pass (return all intermediates):\n",
    "  - \\(z_1 = X W_1 + b_1\\)\n",
    "  - \\(a_1 = \\mathrm{ReLU}(z_1)\\)\n",
    "  - \\(z_2 = a_1 W_2 + b_2\\)\n",
    "  - \\(a_2 = \\sigma(z_2)\\)\n",
    "\n",
    "## 3. Loss Function (Binary Cross-Entropy)\n",
    "\\[\n",
    "\\mathcal{L} = -\\left[y\\cdot \\log(\\hat{y}) + (1-y)\\cdot \\log(1-\\hat{y})\\right]\n",
    "\\]\n",
    "- Numerical stability: clip \\(\\hat{y}\\) to \\([10^{-12},\\,1-10^{-12}]\\).\n",
    "\n",
    "## 4. Backpropagation\n",
    "- \\(dZ_2 = a_2 - y\\)\n",
    "- \\(dW_2 = a_1^\\top dZ_2\\),  \\(db_2 = \\sum dZ_2\\)\n",
    "- \\(dA_1 = dZ_2 W_2^\\top\\)\n",
    "- \\(dZ_1 = dA_1 \\odot \\mathrm{ReLU}'(z_1)\\)\n",
    "- \\(dW_1 = X^\\top dZ_1\\),  \\(db_1 = \\sum dZ_1\\)\n",
    "- **Shape sanity checks** (batch \\(m\\)):\n",
    "  - \\(X:[m,3]\\), \\(W_1:[3,8]\\), \\(b_1:[1,8]\\), \\(a_1:[m,8]\\)\n",
    "  - \\(W_2:[8,1]\\), \\(b_2:[1,1]\\), \\(a_2:[m,1]\\)\n",
    "\n",
    "## 5. Parameter Update (Training)\n",
    "- Optimizer: **SGD**, learning rate \\(\\eta = 0.05\\) (tune if needed).\n",
    "- Loop **100,000** iterations:\n",
    "  - Sample 1 (or mini-batch) from train.\n",
    "  - Forward → Backward → Update:\n",
    "    - \\(W \\leftarrow W - \\eta \\cdot \\frac{1}{m_{\\text{batch}}} dW\\)\n",
    "    - \\(b \\leftarrow b - \\eta \\cdot \\frac{1}{m_{\\text{batch}}} db\\)\n",
    "- Log: print loss every **1,000** iters.\n",
    "\n",
    "## 6. Evaluation\n",
    "- `predict_proba(X)`: return sigmoid outputs \\(a_2\\).\n",
    "- `predict(X)`: threshold at **0.5** → \\(\\{0,1\\}\\).\n",
    "- Report **accuracy** on train & test.\n",
    "- (Optional) **Confusion matrix** \\([TP, FP; FN, TN]\\).\n",
    "\n",
    "## 7. Inference Function\n",
    "- `predict_text_color(R, G, B)`:\n",
    "  - Scale to \\([0,1]\\).\n",
    "  - Compute probability \\(p=\\hat{y}\\).\n",
    "  - Return `\"hell\"` if predicted **light**, `\"dunkel\"` if **dark** (match your verified label mapping).\n",
    "  - Print \\(p\\) for transparency.\n",
    "\n",
    "---\n",
    "\n",
    "### Notes & Tips\n",
    "- If loss plateaus or oscillates, try: lower \\(\\eta\\), use mini-batches (e.g., 32), or increase \\(n_h\\).\n",
    "- Keep a fixed random seed for reproducibility.\n",
    "- Validate the **label mapping** once and document it at the top of your code.\n"
   ]
  },
  {
   "cell_type": "markdown",
   "id": "7f6dc6c6",
   "metadata": {},
   "source": [
    "prepare the data"
   ]
  },
  {
   "cell_type": "code",
   "execution_count": 1,
   "id": "054961b4",
   "metadata": {},
   "outputs": [
    {
     "ename": "NameError",
     "evalue": "name 'pd' is not defined",
     "output_type": "error",
     "traceback": [
      "\u001b[31m---------------------------------------------------------------------------\u001b[39m",
      "\u001b[31mNameError\u001b[39m                                 Traceback (most recent call last)",
      "\u001b[36mCell\u001b[39m\u001b[36m \u001b[39m\u001b[32mIn[1]\u001b[39m\u001b[32m, line 1\u001b[39m\n\u001b[32m----> \u001b[39m\u001b[32m1\u001b[39m df = \u001b[43mpd\u001b[49m.read_csv(\u001b[33m\"\u001b[39m\u001b[33mdata/data_a2_mc1_vta_hs25.csv\u001b[39m\u001b[33m\"\u001b[39m, sep=\u001b[33m\"\u001b[39m\u001b[33m;\u001b[39m\u001b[33m\"\u001b[39m)\n\u001b[32m      2\u001b[39m lum = \u001b[32m0.2126\u001b[39m*df.RED + \u001b[32m0.7152\u001b[39m*df.GREEN + \u001b[32m0.0722\u001b[39m*df.BLUE\n\u001b[32m      3\u001b[39m \u001b[38;5;28mprint\u001b[39m(lum.groupby(df.LIGHT_OR_DARK_FONT_IND).mean())\n",
      "\u001b[31mNameError\u001b[39m: name 'pd' is not defined"
     ]
    }
   ],
   "source": [
    "df = pd.read_csv(\"data/data_a2_mc1_vta_hs25.csv\", sep=\";\")\n",
    "lum = 0.2126*df.RED + 0.7152*df.GREEN + 0.0722*df.BLUE\n",
    "print(lum.groupby(df.LIGHT_OR_DARK_FONT_IND).mean())"
   ]
  },
  {
   "cell_type": "markdown",
   "id": "b18093f8",
   "metadata": {},
   "source": []
  },
  {
   "cell_type": "code",
   "execution_count": 8,
   "id": "3d1ce3ed",
   "metadata": {},
   "outputs": [
    {
     "name": "stdout",
     "output_type": "stream",
     "text": [
      "(5, 8) (5, 8) (5, 1) (5, 1)\n"
     ]
    }
   ],
   "source": [
    "# Hiperparametreler (istediğinde değiştir)\n",
    "n_in  = 3        # R,G,B\n",
    "n_h   = 8        # gizli nöron sayısı (tune edilebilir)\n",
    "n_out = 1        # tek olasılık çıktısı\n",
    "rng = np.random.default_rng(42)\n",
    "\n",
    "# He initialization (ReLU için)\n",
    "W1 = rng.normal(0, np.sqrt(2.0/n_in), size=(n_in, n_h))\n",
    "b1 = np.zeros((1, n_h))\n",
    "W2 = rng.normal(0, np.sqrt(2.0/n_h),  size=(n_h, n_out))\n",
    "b2 = np.zeros((1, n_out))\n",
    "\n",
    "# Aktivasyonlar\n",
    "def relu(z):      return np.maximum(0.0, z)\n",
    "def relu_grad(z): return (z > 0).astype(z.dtype)\n",
    "def sigmoid(z):   return 1.0 / (1.0 + np.exp(-z))\n",
    "\n",
    "# (İsteğe bağlı) mimariyi hızlıca denerken tek forward geçiş\n",
    "def forward_pass(X):\n",
    "    # X: (N,3) ölçeklenmiş (÷255)\n",
    "    z1 = X @ W1 + b1        # (N, n_h)\n",
    "    a1 = relu(z1)           # (N, n_h)\n",
    "    z2 = a1 @ W2 + b2       # (N, 1)\n",
    "    a2 = sigmoid(z2)        # (N, 1)  → açık yazı olasılığı gibi yorumlanır\n",
    "    return z1, a1, z2, a2\n",
    "\n",
    "# Hızlı şekil kontrolü (sanity check)\n",
    "_dummy = np.zeros((5, 3))   # 5 örnek, 3 özellik\n",
    "z1,a1,z2,a2 = forward_pass(_dummy)\n",
    "print(z1.shape, a1.shape, z2.shape, a2.shape)  # (5, n_h) (5, n_h) (5, 1) (5, 1)"
   ]
  }
 ],
 "metadata": {
  "kernelspec": {
   "display_name": ".venv",
   "language": "python",
   "name": "python3"
  },
  "language_info": {
   "codemirror_mode": {
    "name": "ipython",
    "version": 3
   },
   "file_extension": ".py",
   "mimetype": "text/x-python",
   "name": "python",
   "nbconvert_exporter": "python",
   "pygments_lexer": "ipython3",
   "version": "3.12.6"
  }
 },
 "nbformat": 4,
 "nbformat_minor": 5
}
