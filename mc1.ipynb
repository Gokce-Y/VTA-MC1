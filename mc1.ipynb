{
 "cells": [
  {
   "cell_type": "markdown",
   "id": "a8258701",
   "metadata": {},
   "source": [
    "# VTA Mini-Challenge 1\n",
    "\n",
    "**Authors:** Ivan Halka, Gökçe Yaren Demir\n",
    "\n"
   ]
  },
  {
   "cell_type": "code",
   "execution_count": 3,
   "id": "fe4a683a",
   "metadata": {},
   "outputs": [],
   "source": [
    "import numpy as np\n",
    "import pandas as pd\n",
    "import matplotlib.pyplot as plt\n"
   ]
  },
  {
   "cell_type": "code",
   "execution_count": 6,
   "id": "07a9af35",
   "metadata": {},
   "outputs": [
    {
     "name": "stdout",
     "output_type": "stream",
     "text": [
      "        x;y\n",
      "0      0;-2\n",
      "1  1;-1.595\n",
      "2  2;-1.302\n",
      "3  3;-1.103\n",
      "4   4;-1.52\n",
      "        x;y\n",
      "0      0;-2\n",
      "1  1;-1.595\n",
      "2  2;-1.302\n",
      "3  3;-1.103\n",
      "4   4;-1.52\n"
     ]
    }
   ],
   "source": [
    "data1 = pd.read_csv(\"data/data_a1_mc1_vta_hs25.csv\")\n",
    "data2 = pd.read_csv(\"data/data_a1_mc1_vta_hs25.csv\")\n",
    "\n",
    "print(data1.head())\n",
    "print(data2.head())"
   ]
  },
  {
   "cell_type": "markdown",
   "id": "4161a75f",
   "metadata": {},
   "source": [
    "### Step 3: Initialize Parameters\n",
    "\n",
    "Our linear regression model is:\n",
    "\n",
    "\\[\n",
    "y = w_1 \\cdot x + w_0\n",
    "\\]\n",
    "\n",
    "We start by initializing the parameters either randomly or with zeros.  \n",
    "In addition, we define a learning rate (μ) and the number of epochs.\n"
   ]
  }
 ],
 "metadata": {
  "kernelspec": {
   "display_name": ".venv",
   "language": "python",
   "name": "python3"
  },
  "language_info": {
   "codemirror_mode": {
    "name": "ipython",
    "version": 3
   },
   "file_extension": ".py",
   "mimetype": "text/x-python",
   "name": "python",
   "nbconvert_exporter": "python",
   "pygments_lexer": "ipython3",
   "version": "3.11.9"
  }
 },
 "nbformat": 4,
 "nbformat_minor": 5
}
